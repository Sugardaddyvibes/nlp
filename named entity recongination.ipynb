{
 "cells": [
  {
   "cell_type": "markdown",
   "id": "5809ee63-3d10-438e-bb4e-8633db7609cc",
   "metadata": {},
   "source": [
    "sentence=\"The Eiffel Tower was built from 1897 to 1889 by french engineer \n",
    "Gustava Eiffel, whose company specilized in building metal frameworks and \n",
    "structures.\"\n",
    "\"\"\"\n",
    "Person Eg:Adeyeri Akinwale\n",
    "Place or Location Eg:India\n",
    "Date Eg: September,24-09-1989\n",
    "Time Eg:4:30pm\n",
    "Money Eg:1 millon dollar \n",
    "Organization Eg:yeritheplug \n",
    "Percent Eg: 20%,twenty percent\n",
    "\"\"\""
   ]
  },
  {
   "cell_type": "code",
   "execution_count": 3,
   "id": "94792fa4-2f20-4c9b-b9e1-d437cc6a25c8",
   "metadata": {},
   "outputs": [],
   "source": [
    "sentence=\"The Eiffel Tower was built from 1897 to 1889 by french engineer Gustava Eiffel, whose company specilized in building metal frameworks and structures.\""
   ]
  },
  {
   "cell_type": "code",
   "execution_count": 6,
   "id": "51f922be-9100-4e0a-b053-545077e5b5ad",
   "metadata": {},
   "outputs": [],
   "source": [
    "import nltk\n",
    "words=nltk.word_tokenize(sentence)"
   ]
  },
  {
   "cell_type": "code",
   "execution_count": null,
   "id": "372fb29d-fcbe-4e6e-8910-e17c024957fa",
   "metadata": {},
   "outputs": [],
   "source": []
  },
  {
   "cell_type": "code",
   "execution_count": 9,
   "id": "ec6449b8-a522-4ab4-883d-cd57a7a111d9",
   "metadata": {},
   "outputs": [],
   "source": [
    "tag_elemnts=nltk.pos_tag(words)"
   ]
  },
  {
   "cell_type": "code",
   "execution_count": 16,
   "id": "399e9a77-caa2-47a0-a2fa-8412ccd530f7",
   "metadata": {},
   "outputs": [
    {
     "data": {
      "text/plain": [
       "[('The', 'DT'),\n",
       " ('Eiffel', 'NNP'),\n",
       " ('Tower', 'NNP'),\n",
       " ('was', 'VBD'),\n",
       " ('built', 'VBN'),\n",
       " ('from', 'IN'),\n",
       " ('1897', 'CD'),\n",
       " ('to', 'TO'),\n",
       " ('1889', 'CD'),\n",
       " ('by', 'IN'),\n",
       " ('french', 'JJ'),\n",
       " ('engineer', 'NN'),\n",
       " ('Gustava', 'NNP'),\n",
       " ('Eiffel', 'NNP'),\n",
       " (',', ','),\n",
       " ('whose', 'WP$'),\n",
       " ('company', 'NN'),\n",
       " ('specilized', 'VBN'),\n",
       " ('in', 'IN'),\n",
       " ('building', 'NN'),\n",
       " ('metal', 'NN'),\n",
       " ('frameworks', 'NNS'),\n",
       " ('and', 'CC'),\n",
       " ('structures', 'NNS'),\n",
       " ('.', '.')]"
      ]
     },
     "execution_count": 16,
     "metadata": {},
     "output_type": "execute_result"
    }
   ],
   "source": [
    "tag_elemnts\n"
   ]
  },
  {
   "cell_type": "code",
   "execution_count": 11,
   "id": "d97b6ce2-c193-44af-b03f-b67be76db6c6",
   "metadata": {},
   "outputs": [
    {
     "name": "stderr",
     "output_type": "stream",
     "text": [
      "[nltk_data] Downloading package maxent_ne_chunker to\n",
      "[nltk_data]     C:\\Users\\timex\\AppData\\Roaming\\nltk_data...\n",
      "[nltk_data]   Unzipping chunkers\\maxent_ne_chunker.zip.\n"
     ]
    },
    {
     "data": {
      "text/plain": [
       "True"
      ]
     },
     "execution_count": 11,
     "metadata": {},
     "output_type": "execute_result"
    }
   ],
   "source": [
    "import nltk\n",
    "nltk.download('maxent_ne_chunker')\n",
    "  "
   ]
  },
  {
   "cell_type": "code",
   "execution_count": 13,
   "id": "a800e677-3cbd-4731-8915-eb6b06d46431",
   "metadata": {},
   "outputs": [
    {
     "name": "stderr",
     "output_type": "stream",
     "text": [
      "[nltk_data] Downloading package words to\n",
      "[nltk_data]     C:\\Users\\timex\\AppData\\Roaming\\nltk_data...\n",
      "[nltk_data]   Unzipping corpora\\words.zip.\n"
     ]
    },
    {
     "data": {
      "text/plain": [
       "True"
      ]
     },
     "execution_count": 13,
     "metadata": {},
     "output_type": "execute_result"
    }
   ],
   "source": [
    "nltk.download('words')\n"
   ]
  },
  {
   "cell_type": "code",
   "execution_count": null,
   "id": "6247ae0e-4451-4801-aac9-43c5ff5a5ec5",
   "metadata": {},
   "outputs": [],
   "source": [
    "nltk.ne_chunk(tag_elemnts).draw()"
   ]
  },
  {
   "cell_type": "code",
   "execution_count": null,
   "id": "52a57abb-21ed-42e8-a8eb-8a1cb377fc90",
   "metadata": {},
   "outputs": [],
   "source": []
  }
 ],
 "metadata": {
  "kernelspec": {
   "display_name": "Python 3 (ipykernel)",
   "language": "python",
   "name": "python3"
  },
  "language_info": {
   "codemirror_mode": {
    "name": "ipython",
    "version": 3
   },
   "file_extension": ".py",
   "mimetype": "text/x-python",
   "name": "python",
   "nbconvert_exporter": "python",
   "pygments_lexer": "ipython3",
   "version": "3.11.7"
  }
 },
 "nbformat": 4,
 "nbformat_minor": 5
}
